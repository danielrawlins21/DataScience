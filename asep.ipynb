{
 "cells": [
  {
   "cell_type": "code",
   "execution_count": 2,
   "metadata": {},
   "outputs": [],
   "source": [
    "import numpy as np\n",
    "\n",
    "import pandas as pd\n",
    "\n",
    "import matplotlib.pyplot as plt\n",
    "\n",
    "import seaborn as sns\n"
   ]
  },
  {
   "cell_type": "code",
   "execution_count": 4,
   "metadata": {},
   "outputs": [],
   "source": [
    "from wordcloud import WordCloud"
   ]
  },
  {
   "cell_type": "code",
   "execution_count": 9,
   "metadata": {},
   "outputs": [
    {
     "data": {
      "text/html": [
       "<div>\n",
       "<style scoped>\n",
       "    .dataframe tbody tr th:only-of-type {\n",
       "        vertical-align: middle;\n",
       "    }\n",
       "\n",
       "    .dataframe tbody tr th {\n",
       "        vertical-align: top;\n",
       "    }\n",
       "\n",
       "    .dataframe thead th {\n",
       "        text-align: right;\n",
       "    }\n",
       "</style>\n",
       "<table border=\"1\" class=\"dataframe\">\n",
       "  <thead>\n",
       "    <tr style=\"text-align: right;\">\n",
       "      <th></th>\n",
       "      <th>Pos.</th>\n",
       "      <th>Nombre</th>\n",
       "      <th>Apellido</th>\n",
       "      <th>Cédula</th>\n",
       "      <th>Cargo</th>\n",
       "      <th>Salario Mensual</th>\n",
       "      <th>SXO</th>\n",
       "      <th>Inicio de Labores</th>\n",
       "      <th>Objeto de Gasto</th>\n",
       "      <th>Estatus</th>\n",
       "    </tr>\n",
       "  </thead>\n",
       "  <tbody>\n",
       "    <tr>\n",
       "      <th>0</th>\n",
       "      <td>1</td>\n",
       "      <td>Armando</td>\n",
       "      <td>Fuentes</td>\n",
       "      <td>2-163-371</td>\n",
       "      <td>Administrador  General</td>\n",
       "      <td>3500</td>\n",
       "      <td>H</td>\n",
       "      <td>26-07-2019</td>\n",
       "      <td>001</td>\n",
       "      <td>Permanente</td>\n",
       "    </tr>\n",
       "    <tr>\n",
       "      <th>1</th>\n",
       "      <td>2</td>\n",
       "      <td>Alexis</td>\n",
       "      <td>Ortega</td>\n",
       "      <td>4-251-335</td>\n",
       "      <td>Director Ejecutivo</td>\n",
       "      <td>3000</td>\n",
       "      <td>NaN</td>\n",
       "      <td>05/10/2023</td>\n",
       "      <td>001</td>\n",
       "      <td>Permanente</td>\n",
       "    </tr>\n",
       "    <tr>\n",
       "      <th>2</th>\n",
       "      <td>3</td>\n",
       "      <td>Vanessa</td>\n",
       "      <td>Serrano</td>\n",
       "      <td>8-732-2248</td>\n",
       "      <td>Directora Nacional de Atención al Usuario</td>\n",
       "      <td>3000</td>\n",
       "      <td>NaN</td>\n",
       "      <td>02-09-2019</td>\n",
       "      <td>001</td>\n",
       "      <td>Permanente</td>\n",
       "    </tr>\n",
       "    <tr>\n",
       "      <th>3</th>\n",
       "      <td>5</td>\n",
       "      <td>Noemí</td>\n",
       "      <td>de Pimentel</td>\n",
       "      <td>8-439-55</td>\n",
       "      <td>Director de Asesoría Juridica</td>\n",
       "      <td>5000</td>\n",
       "      <td>M</td>\n",
       "      <td>28-04-2008</td>\n",
       "      <td>001</td>\n",
       "      <td>Permanente</td>\n",
       "    </tr>\n",
       "    <tr>\n",
       "      <th>4</th>\n",
       "      <td>6</td>\n",
       "      <td>María</td>\n",
       "      <td>Gormaz</td>\n",
       "      <td>8-492-653</td>\n",
       "      <td>Abogado III</td>\n",
       "      <td>3000</td>\n",
       "      <td>M</td>\n",
       "      <td>17-12-2012</td>\n",
       "      <td>001</td>\n",
       "      <td>Permanente</td>\n",
       "    </tr>\n",
       "  </tbody>\n",
       "</table>\n",
       "</div>"
      ],
      "text/plain": [
       "  Pos.   Nombre     Apellido     Cédula   \\\n",
       "0    1  Armando      Fuentes   2-163-371   \n",
       "1    2   Alexis       Ortega   4-251-335   \n",
       "2    3  Vanessa      Serrano  8-732-2248   \n",
       "3    5    Noemí  de Pimentel    8-439-55   \n",
       "4    6    María       Gormaz   8-492-653   \n",
       "\n",
       "                                       Cargo Salario Mensual  SXO  \\\n",
       "0                    Administrador  General             3500    H   \n",
       "1                         Director Ejecutivo            3000  NaN   \n",
       "2  Directora Nacional de Atención al Usuario            3000  NaN   \n",
       "3              Director de Asesoría Juridica            5000    M   \n",
       "4                                Abogado III            3000    M   \n",
       "\n",
       "  Inicio de Labores Objeto de Gasto     Estatus  \n",
       "0        26-07-2019             001  Permanente  \n",
       "1        05/10/2023             001  Permanente  \n",
       "2        02-09-2019             001  Permanente  \n",
       "3        28-04-2008             001  Permanente  \n",
       "4        17-12-2012             001  Permanente  "
      ]
     },
     "execution_count": 9,
     "metadata": {},
     "output_type": "execute_result"
    }
   ],
   "source": [
    "file_path = 'C:\\\\Users\\\\danie\\\\Downloads\\\\planilla-personal-fijo-enero-diciembre-2023.xlsx'\n",
    "\n",
    "dataset= pd.read_excel(file_path,sheet_name='PLANILLA PERSONAL ENERO-DI')\n",
    "\n",
    "dataset.head()"
   ]
  },
  {
   "cell_type": "code",
   "execution_count": 23,
   "metadata": {},
   "outputs": [
    {
     "name": "stdout",
     "output_type": "stream",
     "text": [
      "0       False\n",
      "1       False\n",
      "2       False\n",
      "3       False\n",
      "4       False\n",
      "        ...  \n",
      "5089    False\n",
      "5090    False\n",
      "5091    False\n",
      "5092    False\n",
      "5093    False\n",
      "Name: SXO, Length: 5094, dtype: bool\n"
     ]
    }
   ],
   "source": [
    "print(dataset['SXO']=='H')"
   ]
  },
  {
   "cell_type": "code",
   "execution_count": 10,
   "metadata": {},
   "outputs": [
    {
     "name": "stdout",
     "output_type": "stream",
     "text": [
      "Index(['Pos.', 'Nombre', 'Apellido', 'Cédula ', 'Cargo', 'Salario Mensual',\n",
      "       'SXO', 'Inicio de Labores', 'Objeto de Gasto', 'Estatus'],\n",
      "      dtype='object')\n",
      "Pos.                 object\n",
      "Nombre               object\n",
      "Apellido             object\n",
      "Cédula               object\n",
      "Cargo                object\n",
      "Salario Mensual      object\n",
      "SXO                  object\n",
      "Inicio de Labores    object\n",
      "Objeto de Gasto      object\n",
      "Estatus              object\n",
      "dtype: object\n"
     ]
    }
   ],
   "source": [
    "print(dataset.columns)\n",
    "\n",
    "print(dataset.dtypes)"
   ]
  },
  {
   "cell_type": "code",
   "execution_count": 11,
   "metadata": {},
   "outputs": [
    {
     "name": "stdout",
     "output_type": "stream",
     "text": [
      "422\n"
     ]
    }
   ],
   "source": [
    "print(len(dataset['Nombre'].unique()))"
   ]
  },
  {
   "cell_type": "code",
   "execution_count": 14,
   "metadata": {},
   "outputs": [
    {
     "data": {
      "text/plain": [
       "Text(0.5, 1.0, 'No. of male and female names in the dataset')"
      ]
     },
     "execution_count": 14,
     "metadata": {},
     "output_type": "execute_result"
    },
    {
     "data": {
      "image/png": "[encoded data removed]",
      "text/plain": [
       "<Figure size 640x480 with 1 Axes>"
      ]
     },
     "metadata": {},
     "output_type": "display_data"
    }
   ],
   "source": [
    "sns.countplot(x='SXO',data = dataset)\n",
    "\n",
    "plt.title('No. of male and female names in the dataset')\n",
    "\n",
    "#plt.xticks([0,1,2],('Mujer','Hombre', 'Null'))"
   ]
  },
  {
   "cell_type": "code",
   "execution_count": 16,
   "metadata": {},
   "outputs": [],
   "source": [
    "df = dataset.dropna()"
   ]
  },
  {
   "cell_type": "code",
   "execution_count": null,
   "metadata": {},
   "outputs": [],
   "source": [
    "df['SXO'] = df['SXO'].replace({0})"
   ]
  },
  {
   "cell_type": "code",
   "execution_count": 17,
   "metadata": {},
   "outputs": [
    {
     "data": {
      "text/plain": [
       "Text(0.5, 1.0, 'No. of male and female names in the dataset')"
      ]
     },
     "execution_count": 17,
     "metadata": {},
     "output_type": "execute_result"
    },
    {
     "data": {
      "image/png": "[encoded data removed]",
      "text/plain": [
       "<Figure size 640x480 with 1 Axes>"
      ]
     },
     "metadata": {},
     "output_type": "display_data"
    }
   ],
   "source": [
    "sns.countplot(x='SXO',data = df)\n",
    "\n",
    "plt.title('No. of male and female names in the dataset')"
   ]
  },
  {
   "cell_type": "code",
   "execution_count": 15,
   "metadata": {},
   "outputs": [
    {
     "ename": "ValueError",
     "evalue": "Cannot mask with non-boolean array containing NA / NaN values",
     "output_type": "error",
     "traceback": [
      "\u001b[1;31m---------------------------------------------------------------------------\u001b[0m",
      "\u001b[1;31mValueError\u001b[0m                                Traceback (most recent call last)",
      "\u001b[1;32mc:\\Users\\danie\\OneDrive - Universidad Tecnológica de Panamá\\Repositories\\Data Science MiT\\DataScience\\asep.ipynb Cell 7\u001b[0m line \u001b[0;36m9\n\u001b[0;32m      <a href='vscode-notebook-cell:/c%3A/Users/danie/OneDrive%20-%20Universidad%20Tecnol%C3%B3gica%20de%20Panam%C3%A1/Repositories/Data%20Science%20MiT/DataScience/asep.ipynb#X10sZmlsZQ%3D%3D?line=4'>5</a>\u001b[0m startletter_count \u001b[39m=\u001b[39m {}\n\u001b[0;32m      <a href='vscode-notebook-cell:/c%3A/Users/danie/OneDrive%20-%20Universidad%20Tecnol%C3%B3gica%20de%20Panam%C3%A1/Repositories/Data%20Science%20MiT/DataScience/asep.ipynb#X10sZmlsZQ%3D%3D?line=6'>7</a>\u001b[0m \u001b[39mfor\u001b[39;00m i \u001b[39min\u001b[39;00m alphabets:\n\u001b[1;32m----> <a href='vscode-notebook-cell:/c%3A/Users/danie/OneDrive%20-%20Universidad%20Tecnol%C3%B3gica%20de%20Panam%C3%A1/Repositories/Data%20Science%20MiT/DataScience/asep.ipynb#X10sZmlsZQ%3D%3D?line=8'>9</a>\u001b[0m     startletter_count[i] \u001b[39m=\u001b[39m \u001b[39mlen\u001b[39m(dataset[dataset[\u001b[39m'\u001b[39;49m\u001b[39mNombre\u001b[39;49m\u001b[39m'\u001b[39;49m]\u001b[39m.\u001b[39;49mstr\u001b[39m.\u001b[39;49mstartswith(i)])\n\u001b[0;32m     <a href='vscode-notebook-cell:/c%3A/Users/danie/OneDrive%20-%20Universidad%20Tecnol%C3%B3gica%20de%20Panam%C3%A1/Repositories/Data%20Science%20MiT/DataScience/asep.ipynb#X10sZmlsZQ%3D%3D?line=10'>11</a>\u001b[0m \u001b[39mprint\u001b[39m(startletter_count)\n",
      "File \u001b[1;32m~\\AppData\\Local\\Packages\\PythonSoftwareFoundation.Python.3.11_qbz5n2kfra8p0\\LocalCache\\local-packages\\Python311\\site-packages\\pandas\\core\\frame.py:3797\u001b[0m, in \u001b[0;36mDataFrame.__getitem__\u001b[1;34m(self, key)\u001b[0m\n\u001b[0;32m   3794\u001b[0m     \u001b[39mreturn\u001b[39;00m \u001b[39mself\u001b[39m\u001b[39m.\u001b[39mwhere(key)\n\u001b[0;32m   3796\u001b[0m \u001b[39m# Do we have a (boolean) 1d indexer?\u001b[39;00m\n\u001b[1;32m-> 3797\u001b[0m \u001b[39mif\u001b[39;00m com\u001b[39m.\u001b[39;49mis_bool_indexer(key):\n\u001b[0;32m   3798\u001b[0m     \u001b[39mreturn\u001b[39;00m \u001b[39mself\u001b[39m\u001b[39m.\u001b[39m_getitem_bool_array(key)\n\u001b[0;32m   3800\u001b[0m \u001b[39m# We are left with two options: a single key, and a collection of keys,\u001b[39;00m\n\u001b[0;32m   3801\u001b[0m \u001b[39m# We interpret tuples as collections only for non-MultiIndex\u001b[39;00m\n",
      "File \u001b[1;32m~\\AppData\\Local\\Packages\\PythonSoftwareFoundation.Python.3.11_qbz5n2kfra8p0\\LocalCache\\local-packages\\Python311\\site-packages\\pandas\\core\\common.py:135\u001b[0m, in \u001b[0;36mis_bool_indexer\u001b[1;34m(key)\u001b[0m\n\u001b[0;32m    131\u001b[0m     na_msg \u001b[39m=\u001b[39m \u001b[39m\"\u001b[39m\u001b[39mCannot mask with non-boolean array containing NA / NaN values\u001b[39m\u001b[39m\"\u001b[39m\n\u001b[0;32m    132\u001b[0m     \u001b[39mif\u001b[39;00m lib\u001b[39m.\u001b[39minfer_dtype(key_array) \u001b[39m==\u001b[39m \u001b[39m\"\u001b[39m\u001b[39mboolean\u001b[39m\u001b[39m\"\u001b[39m \u001b[39mand\u001b[39;00m isna(key_array)\u001b[39m.\u001b[39many():\n\u001b[0;32m    133\u001b[0m         \u001b[39m# Don't raise on e.g. [\"A\", \"B\", np.nan], see\u001b[39;00m\n\u001b[0;32m    134\u001b[0m         \u001b[39m#  test_loc_getitem_list_of_labels_categoricalindex_with_na\u001b[39;00m\n\u001b[1;32m--> 135\u001b[0m         \u001b[39mraise\u001b[39;00m \u001b[39mValueError\u001b[39;00m(na_msg)\n\u001b[0;32m    136\u001b[0m     \u001b[39mreturn\u001b[39;00m \u001b[39mFalse\u001b[39;00m\n\u001b[0;32m    137\u001b[0m \u001b[39mreturn\u001b[39;00m \u001b[39mTrue\u001b[39;00m\n",
      "\u001b[1;31mValueError\u001b[0m: Cannot mask with non-boolean array containing NA / NaN values"
     ]
    }
   ],
   "source": [
    "alphabets= ['A','B','C','D','E','F','G','H','I','J','K','L','M','N','O','P',\n",
    "\n",
    "            'Q','R','S','T','U','V','W','X','Y','Z']\n",
    "\n",
    "startletter_count = {}\n",
    "\n",
    "for i in alphabets:\n",
    "\n",
    "    startletter_count[i] = len(dataset[dataset['Nombre'].str.startswith(i)])\n",
    "\n",
    "print(startletter_count)"
   ]
  }
 ],
 "metadata": {
  "kernelspec": {
   "display_name": "Python 3",
   "language": "python",
   "name": "python3"
  },
  "language_info": {
   "codemirror_mode": {
    "name": "ipython",
    "version": 3
   },
   "file_extension": ".py",
   "mimetype": "text/x-python",
   "name": "python",
   "nbconvert_exporter": "python",
   "pygments_lexer": "ipython3",
   "version": "3.11.7"
  }
 },
 "nbformat": 4,
 "nbformat_minor": 2
}
